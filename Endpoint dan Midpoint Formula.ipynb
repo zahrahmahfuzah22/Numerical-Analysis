{
 "cells": [
  {
   "cell_type": "markdown",
   "id": "111f0665-c60b-4efe-84cc-3829f6303809",
   "metadata": {},
   "source": [
    "# Tugas 3 Praktikum Metode Numerik\n",
    "**Zahrah Mahfuzah -  2106704004**\n",
    "\n",
    "## Soal \n",
    "Sebuah fungsi  𝑓(𝑥)  didefinisikan sebagai  𝑥5+9𝑥4−𝑎𝑥3+𝑏𝑥2−𝑐𝑥+5=0  dimana a, b, dan c adalah tiga digit terakhir berturut-turut dari NPM kalian. (Misal : untuk NPM 2006522123 maka fungsi yang digunakan adalah  𝑥5+9𝑥4−1𝑥3+2𝑥2−3𝑥+5=0 ). Buatlah program yang dapat memberikan output berupa :\n",
    "1. Jika user memilih diturunkan, tampilkan\n",
    "    - TPMP\n",
    "    - TPEP\n",
    "    - FPMP\n",
    "    - FPEP\n",
    "2. Jika user memilih diintegralkan, tampilkan\n",
    "    - Metode Trapezoid\n",
    "    - Metode Simpson\n",
    "3. Jika user memilih diintegralkan komposit, tampilkan\n",
    "    - Metode Trapezoid Komposit\n",
    "    - Metode Simpson Komposit"
   ]
  },
  {
   "cell_type": "code",
   "execution_count": 13,
   "id": "93790108-15e5-4c93-9871-f4cb2fe82654",
   "metadata": {},
   "outputs": [],
   "source": [
    "# import module \n",
    "from tabulate import tabulate "
   ]
  },
  {
   "cell_type": "code",
   "execution_count": 22,
   "id": "8312bdcf-049a-48aa-9f85-2043fc4139b1",
   "metadata": {},
   "outputs": [
    {
     "name": "stdin",
     "output_type": "stream",
     "text": [
      "Masukkan formula fungsi yang akan dicari nilai turunannya:  x**5+9*x**4-s*x**3+t*x**2-r*x+5\n",
      "Masukkan digit ketiga terakhir NPM Anda:  0\n",
      "Masukkan digit kedua terakhir NPM Anda:  0\n",
      "Masukkan digit terakhir NPM Anda:  4\n"
     ]
    },
    {
     "name": "stdout",
     "output_type": "stream",
     "text": [
      "+------+---------------------------+-------------------------------------------------------------+\n",
      "| Kode |          Program          |                           Fungsi                            |\n",
      "+------+---------------------------+-------------------------------------------------------------+\n",
      "|  1   |      Turunan Numerik      | Untuk mengaproksimasi nilai turunan fungsi pada suatu titik |\n",
      "|  2   |     Integral Numerik      |  Untuk mengaproksimasi nilai integral pada interval [a,b]   |\n",
      "|  3   | Integral Numerik Komposit |            Untuk integral numerik dengan partisi            |\n",
      "+------+---------------------------+-------------------------------------------------------------+\n",
      "Selamat datang diprogram Turunan, Integral, dan Integral Komposit!\n"
     ]
    },
    {
     "name": "stdin",
     "output_type": "stream",
     "text": [
      "Ingin memilih program apa? 1\n"
     ]
    },
    {
     "name": "stdout",
     "output_type": "stream",
     "text": [
      "Turunan Numerik\n"
     ]
    },
    {
     "name": "stdin",
     "output_type": "stream",
     "text": [
      "Masukkan titik dimana nilai turunan fungsinya akan diaproksimasi:  5\n",
      "Masukkan besar stepsize:  0.05\n",
      "Output berupa tabel? (y/n):  y\n"
     ]
    },
    {
     "name": "stdout",
     "output_type": "stream",
     "text": [
      "Turunan fungsi di x0 = 5 adalah: \n",
      "+------------------------+-------------------+\n",
      "| Metode Turunan Numerik |    Aproksimasi    |\n",
      "+------------------------+-------------------+\n",
      "|          TPEP          | 7618.824412499944 |\n",
      "|          TPMP          | 7622.075006249961 |\n",
      "|          FPEP          | 7620.999849999916 |\n",
      "|          FPMP          | 7620.999974999949 |\n",
      "+------------------------+-------------------+\n",
      "========================================================\n"
     ]
    },
    {
     "name": "stdin",
     "output_type": "stream",
     "text": [
      "Ingin menjalankan program lagi? (y/n):  y\n",
      "Masukkan formula fungsi yang akan dicari nilai turunannya:  x**5+9*x**4-s*x**3+t*x**2-r*x+5\n",
      "Masukkan digit ketiga terakhir NPM Anda:  0\n",
      "Masukkan digit kedua terakhir NPM Anda:  0\n",
      "Masukkan digit terakhir NPM Anda:  4\n"
     ]
    },
    {
     "name": "stdout",
     "output_type": "stream",
     "text": [
      "+------+---------------------------+-------------------------------------------------------------+\n",
      "| Kode |          Program          |                           Fungsi                            |\n",
      "+------+---------------------------+-------------------------------------------------------------+\n",
      "|  1   |      Turunan Numerik      | Untuk mengaproksimasi nilai turunan fungsi pada suatu titik |\n",
      "|  2   |     Integral Numerik      |  Untuk mengaproksimasi nilai integral pada interval [a,b]   |\n",
      "|  3   | Integral Numerik Komposit |            Untuk integral numerik dengan partisi            |\n",
      "+------+---------------------------+-------------------------------------------------------------+\n",
      "Selamat datang diprogram Turunan, Integral, dan Integral Komposit!\n"
     ]
    },
    {
     "name": "stdin",
     "output_type": "stream",
     "text": [
      "Ingin memilih program apa? 3\n"
     ]
    },
    {
     "name": "stdout",
     "output_type": "stream",
     "text": [
      "Integral Komposit\n"
     ]
    },
    {
     "name": "stdin",
     "output_type": "stream",
     "text": [
      "Masukkan batas bawah integral:  -10\n",
      "Masukkan batas atas integral:  10\n",
      "Masukkan jumlah partisi (n):  100\n",
      "Output berupa tabel? (y/n):  n\n"
     ]
    },
    {
     "name": "stdout",
     "output_type": "stream",
     "text": [
      "Hasil integral dari fugsi f(x) = x**5+9*x**4-s*x**3+t*x**2-r*x+5 pada interval [-10,10] adalah: \n",
      "Composite Trapezoid dengan 100 partisi = 360339.99040\n",
      "Composite Simpson dengan 100 partisi = 360100.03840\n",
      "========================================================\n"
     ]
    },
    {
     "name": "stdin",
     "output_type": "stream",
     "text": [
      "Ingin menjalankan program lagi? (y/n):  y\n",
      "Masukkan formula fungsi yang akan dicari nilai turunannya:  x**5+9*x**4-s*x**3+t*x**2-r*x+5\n",
      "Masukkan digit ketiga terakhir NPM Anda:  0\n",
      "Masukkan digit kedua terakhir NPM Anda:  0\n",
      "Masukkan digit terakhir NPM Anda:  4\n"
     ]
    },
    {
     "name": "stdout",
     "output_type": "stream",
     "text": [
      "+------+---------------------------+-------------------------------------------------------------+\n",
      "| Kode |          Program          |                           Fungsi                            |\n",
      "+------+---------------------------+-------------------------------------------------------------+\n",
      "|  1   |      Turunan Numerik      | Untuk mengaproksimasi nilai turunan fungsi pada suatu titik |\n",
      "|  2   |     Integral Numerik      |  Untuk mengaproksimasi nilai integral pada interval [a,b]   |\n",
      "|  3   | Integral Numerik Komposit |            Untuk integral numerik dengan partisi            |\n",
      "+------+---------------------------+-------------------------------------------------------------+\n",
      "Selamat datang diprogram Turunan, Integral, dan Integral Komposit!\n"
     ]
    },
    {
     "name": "stdin",
     "output_type": "stream",
     "text": [
      "Ingin memilih program apa? 2\n"
     ]
    },
    {
     "name": "stdout",
     "output_type": "stream",
     "text": [
      "Integral Numerik\n"
     ]
    },
    {
     "name": "stdin",
     "output_type": "stream",
     "text": [
      "Masukkan batas bawah integral:  -10\n",
      "Masukkan batas atas integral:  10\n",
      "Output berupa tabel? (y/n):  y\n"
     ]
    },
    {
     "name": "stdout",
     "output_type": "stream",
     "text": [
      "Integral fungsi di x0 = x**5+9*x**4-s*x**3+t*x**2-r*x+5 adalah: \n",
      "+-------------------------+-------------+\n",
      "| Metode Integral Numerik | Aproksimasi |\n",
      "+-------------------------+-------------+\n",
      "|        Trapezoid        |  1800100.0  |\n",
      "|         Simpson         |  600100.0   |\n",
      "+-------------------------+-------------+\n",
      "========================================================\n"
     ]
    },
    {
     "name": "stdin",
     "output_type": "stream",
     "text": [
      "Ingin menjalankan program lagi? (y/n):  n\n"
     ]
    },
    {
     "name": "stdout",
     "output_type": "stream",
     "text": [
      "Terima kasih, program telah selesai.\n"
     ]
    }
   ],
   "source": [
    "# pendefinisian untuk turunan numerik\n",
    "def f(x): \n",
    "    return eval(formula)\n",
    "    \n",
    "def TPEP(x,h): # pendefinisian Three Point End Point\n",
    "    return (1/(2*h))*(-3*f(x)+4*f(x+h)-f(x+2*h)) # output hasil TPEP\n",
    "def TPMP(x,h): # pendefinisian Three Point Mid Point\n",
    "    return (1/(2*h))*(f(x+h)-f(x-h)) # output hasil TPMP\n",
    "def FPEP(x,h): # pendefinisian Five Point End Point\n",
    "    return (1/(12*h))*(-25*f(x)+48*f(x+h)-36*f(x+2*h)+16*f(x+3*h)-3*f(x+4*h)) # output hasil FPEP\n",
    "def FPMP(x,h): # pendefinisian Five Point Mid Point\n",
    "    return (1/(12*h))*(f(x-2*h)-8*f(x-h)+8*f(x+h)-f(x+2*h))# output hasil FPMP\n",
    "\n",
    "# pendefinisian untuk integral numerik\n",
    "def f(x): \n",
    "    return eval(formula)\n",
    "\n",
    "def Trapezoid(a,b): # pendefinisian metode Trapezoid\n",
    "    h = b-a \n",
    "    return (h/2)*(f(a)+f(b)) # output hasil perhitungan dengan metode Trapezoid\n",
    "def Simpson(a,b): # pendefinisian metode Simpson\n",
    "    h = (b-a)/2\n",
    "    return (h/3)*(f(a)+4*f(a+h)+f(b)) # output hasil perhitungan dengan metode Simpson\n",
    "\n",
    "# pendefinisian untuk integral komposit \n",
    "def f(x):\n",
    "    return eval(formula)\n",
    "\n",
    "def CompTrapezoid(a,b,n): # pendefinisian metode Trapezoid Komposit\n",
    "    h = (b-a)/n\n",
    "    sumtrap = 0\n",
    "    for j in range(1,n):\n",
    "        sumtrap = sumtrap + f(a+j*h)\n",
    "    return (h/2)*(f(a)+2*sumtrap+f(b)) # output hasil perhitungan dengan metode Trapezoid Komposit\n",
    "def CompSimpson(a,b,n): # pendefinisian metode Simpson Komposit\n",
    "    if n%2==1:\n",
    "        return \"jumlah partisi harus genap\"\n",
    "    elif n%2==0:\n",
    "        h = (b-a)/n\n",
    "        sum1 = 0\n",
    "        sum2 = 0\n",
    "        for j in range (1, int(n/2)):\n",
    "            sum1+= f(a+2*j*h)\n",
    "            sum2+= f(a+(2*j-1)*h)\n",
    "        sum2 += f(b-h)\n",
    "        return (h/3)*(f(a)+2*sum1+4*sum2+f(b)) # output hasil perhitungan dengan metode Simpson Komposit\n",
    "\n",
    "bisa = True \n",
    "while bisa == True: # memberikan perintah selama task bernilai True\n",
    "    formula = input('Masukkan formula fungsi yang akan dicari nilai turunannya: ') # untuk input rumus yang akan digunakan\n",
    "    s = int(input('Masukkan digit ketiga terakhir NPM Anda: ')) # untuk input digit ketiga terakhir NPM\n",
    "    t = int(input('Masukkan digit kedua terakhir NPM Anda: ')) # untuk input digit kedua terakhir NPM\n",
    "    r = int(input('Masukkan digit terakhir NPM Anda: ')) # untuk input digit terakhir NPM\n",
    "    table = [[1, 'Turunan Numerik', 'Untuk mengaproksimasi nilai turunan fungsi pada suatu titik'],\n",
    "             [2, 'Integral Numerik', 'Untuk mengaproksimasi nilai integral pada interval [a,b]'],\n",
    "             [3, 'Integral Numerik Komposit', ' Untuk integral numerik dengan partisi']]\n",
    "    print(tabulate(table, headers = ['Kode', 'Program', 'Fungsi'], tablefmt = 'pretty')) \n",
    "    print('Selamat datang diprogram Turunan, Integral, dan Integral Komposit!')\n",
    "    pilihan = int(input('Ingin memilih program apa?')) # untuk input pilihan metode yang ingin user pakai\n",
    "    \n",
    "    if pilihan == 1: # jika user memilih turunan numerik\n",
    "        print('Turunan Numerik')\n",
    "        x0 = eval(input('Masukkan titik dimana nilai turunan fungsinya akan diaproksimasi: ')) # untuk input nilai yang akan diaproksimasi dalam x0\n",
    "        h = eval(input('Masukkan besar stepsize: ')) # untuk input banyaknya stepsize dalam h\n",
    "        \n",
    "        mau_tabel = input(\"Output berupa tabel? (y/n): \") # untuk input pilihan output berupa tabel atau tidak\n",
    "        if mau_tabel == \"y\": # jika user ingin menampilkan tabel\n",
    "            print(\"Turunan fungsi di x0 = {0} adalah: \".format(x0))\n",
    "            a = TPEP(x0,h)\n",
    "            b = TPMP (x0,h)\n",
    "            c = FPEP(x0,h)\n",
    "            d = FPMP(x0,h)\n",
    "            hasiltabel= [[\"Metode Turunan Numerik\",\"Aproksimasi\"],[\"TPEP\",a],[\"TPMP\",b],[\"FPEP\",c],[\"FPMP\",d]]\n",
    "            print(tabulate(hasiltabel, headers = \"firstrow\", tablefmt = \"pretty\"))  \n",
    "        elif mau_tabel == \"n\": # jika user tidak ingin menampilkan tabel\n",
    "            print('Turunan dari f di x0 = {0} adalah : '.format(x0))\n",
    "            print(\"f'({0}) = {1:.7f} (Three Point Endpoint)\".format(x0,TPEP(x0,h)))\n",
    "            print(\"f'({0}) = {1:.7f} (Three Point Midpoint)\".format(x0,TPMP(x0,h)))\n",
    "            print(\"f'({0}) = {1:.7f} (Five Point Endpoint)\".format(x0,FPEP(x0,h)))\n",
    "            print(\"f'({0}) = {1:.7f} (Five Point Midpoint)\".format(x0,FPMP(x0,h)))\n",
    "        \n",
    "        print('========================================================')\n",
    "        \n",
    "    elif pilihan == 2: # jika user memilih metode integral\n",
    "        print('Integral Numerik')\n",
    "        low_bound = eval(input('Masukkan batas bawah integral: ')) # untuk input batas bawah dalam lower bound\n",
    "        up_bound = eval(input('Masukkan batas atas integral: ')) # untuk input batas atas dalam upper bound\n",
    "\n",
    "        mau_tabel = input(\"Output berupa tabel? (y/n): \") # untuk input pilihan output berupa tabel atau tidak\n",
    "        if mau_tabel == \"y\": # jika user ingin menampilkan tabel\n",
    "            print(\"Integral fungsi di x0 = {0} adalah: \".format(formula))\n",
    "            a = Trapezoid(low_bound,up_bound)\n",
    "            b = Simpson(low_bound,up_bound)\n",
    "            hasiltabel = [[\"Metode Integral Numerik\",\"Aproksimasi\"],[\"Trapezoid\",a],[\"Simpson\",b]]\n",
    "            print(tabulate(hasiltabel, headers = \"firstrow\", tablefmt = \"pretty\")) \n",
    "        elif mau_tabel == \"n\": # jika user tidak ingin menampilkan tabel\n",
    "            print(\"Hasil integral dari fungsi f(x) = {0} pada interval [{1},{2}] adalah : \".format(formula, low_bound, up_bound))\n",
    "            print(\"Trapezoid = {:.7f}\".format(Trapezoid(low_bound,up_bound)))\n",
    "            print(\"Simpson = {:.7f}\".format(Simpson(low_bound,up_bound)))\n",
    "        \n",
    "        print('========================================================')\n",
    "\n",
    "    elif pilihan == 3: # jika user memilih metode integral komposit\n",
    "        print('Integral Komposit')\n",
    "        low_bound = eval(input('Masukkan batas bawah integral: ')) # untuk input batas bawah\n",
    "        up_bound = eval(input('Masukkan batas atas integral: ')) # untuk input batas atas\n",
    "        partisi = eval(input('Masukkan jumlah partisi (n): ')) # untuk input jumlah partisi\n",
    "        \n",
    "        mau_tabel = input(\"Output berupa tabel? (y/n): \") # untuk input pilihan output berupa tabel atau tidak\n",
    "        if mau_tabel == \"y\": # jika user ingin menampilkan tabel\n",
    "            print(\"Turunan fungsi di x0 = {0} adalah: \".format(formula))\n",
    "            a = CompTrapezoid(low_bound,up_bound,partisi)\n",
    "            b = CompSimpson(low_bound,up_bound,partisi)\n",
    "            hasiltabel = [[\"Metode Integral Numerik\",\"Aproksimasi\"],[\"Trapezoid\",a],[\"Simpson\",b]]\n",
    "            print(\"Hasil integral numerik komposit dari fungsi f(x) = {0} pada interval [{1},{2}] dengan {3} partisi adalah: \".format(formula, low_bound, up_bound, partisi))\n",
    "            print(tabulate(hasiltabel, headers = \"firstrow\", tablefmt = \"pretty\"))   \n",
    "        elif mau_tabel == \"n\" : # jika user tidak ingin menampilkan tabel\n",
    "            print(\"Hasil integral dari fugsi f(x) = {0} pada interval [{1},{2}] adalah: \".format(formula, low_bound, up_bound))\n",
    "            print(\"Composite Trapezoid dengan {0} partisi = {1:.5f}\".format(partisi, CompTrapezoid(low_bound, up_bound, partisi)))\n",
    "            print(\"Composite Simpson dengan {0} partisi = {1:.5f}\".format(partisi, CompSimpson(low_bound, up_bound, partisi)))\n",
    "        \n",
    "        print('========================================================')\n",
    "        \n",
    "    reset = str(input(\"Ingin menjalankan program lagi? (y/n): \")) # untuk input pilihan user ingin menjalankan program lagi atau tidak\n",
    "    if reset == \"n\": # jika user memilih tidak\n",
    "        print(\"Terima kasih, program telah selesai.\") \n",
    "        bisa = False "
   ]
  },
  {
   "cell_type": "markdown",
   "id": "15f66709-6e45-4592-a244-3a0c78193ec5",
   "metadata": {},
   "source": [
    "## Soal bonus \n",
    "Pada soal terdapat variabel a,b,c yang dapat diganti dengan 3 digit terakhir NPM kalian. Untuk bonus, program dapat meminta input NPM (lengkap) dan otomatis mengambil 3 digit terakhir sebagai a,b,c serta mengubah variable a,b,c pada fungsi f(x)."
   ]
  },
  {
   "cell_type": "code",
   "execution_count": 18,
   "id": "b0c91cc4-e02f-4a85-8346-5ba7865d9467",
   "metadata": {},
   "outputs": [
    {
     "name": "stdin",
     "output_type": "stream",
     "text": [
      "Masukkan NPM anda:  2106704004\n"
     ]
    },
    {
     "name": "stdout",
     "output_type": "stream",
     "text": [
      "Nilai variabel s:0\n",
      "Nilai variabel t:0\n",
      "Nilai variabel r:4\n",
      "Formula yang digunakan:x**5+9*x**4-0*x**3+0*x**2-4*x+5\n",
      "+------+---------------------------+-------------------------------------------------------------+\n",
      "| Kode |          Program          |                           Fungsi                            |\n",
      "+------+---------------------------+-------------------------------------------------------------+\n",
      "|  1   |      Turunan Numerik      | Untuk mengaproksimasi nilai turunan fungsi pada suatu titik |\n",
      "|  2   |     Integral Numerik      |  Untuk mengaproksimasi nilai integral pada interval [a,b]   |\n",
      "|  3   | Integral Numerik Komposit |            Untuk integral numerik dengan partisi            |\n",
      "+------+---------------------------+-------------------------------------------------------------+\n",
      "Selamat datang diprogram Turunan, Integral, dan Integral Komposit!\n"
     ]
    },
    {
     "name": "stdin",
     "output_type": "stream",
     "text": [
      "Ingin memilih program apa? 1\n"
     ]
    },
    {
     "name": "stdout",
     "output_type": "stream",
     "text": [
      "Turunan Numerik\n"
     ]
    },
    {
     "name": "stdin",
     "output_type": "stream",
     "text": [
      "Masukkan titik dimana nilai turunan fungsinya akan diaproksimasi:  5\n",
      "Masukkan besar stepsize:  0.05\n",
      "Output berupa tabel? (y/n):  y\n"
     ]
    },
    {
     "name": "stdout",
     "output_type": "stream",
     "text": [
      "Turunan fungsi di x0 = 5 adalah: \n",
      "+------------------------+-------------------+\n",
      "| Metode Turunan Numerik |    Aproksimasi    |\n",
      "+------------------------+-------------------+\n",
      "|          TPEP          | 7618.824412499944 |\n",
      "|          TPMP          | 7622.075006249961 |\n",
      "|          FPEP          | 7620.999849999916 |\n",
      "|          FPMP          | 7620.999974999949 |\n",
      "+------------------------+-------------------+\n",
      "========================================================\n"
     ]
    },
    {
     "name": "stdin",
     "output_type": "stream",
     "text": [
      "Ingin menjalankan program lagi? (y/n):  y\n",
      "Masukkan NPM anda:  2106704004\n"
     ]
    },
    {
     "name": "stdout",
     "output_type": "stream",
     "text": [
      "Nilai variabel s:0\n",
      "Nilai variabel t:0\n",
      "Nilai variabel r:4\n",
      "Formula yang digunakan:x**5+9*x**4-0*x**3+0*x**2-4*x+5\n",
      "+------+---------------------------+-------------------------------------------------------------+\n",
      "| Kode |          Program          |                           Fungsi                            |\n",
      "+------+---------------------------+-------------------------------------------------------------+\n",
      "|  1   |      Turunan Numerik      | Untuk mengaproksimasi nilai turunan fungsi pada suatu titik |\n",
      "|  2   |     Integral Numerik      |  Untuk mengaproksimasi nilai integral pada interval [a,b]   |\n",
      "|  3   | Integral Numerik Komposit |            Untuk integral numerik dengan partisi            |\n",
      "+------+---------------------------+-------------------------------------------------------------+\n",
      "Selamat datang diprogram Turunan, Integral, dan Integral Komposit!\n"
     ]
    },
    {
     "name": "stdin",
     "output_type": "stream",
     "text": [
      "Ingin memilih program apa? 2\n"
     ]
    },
    {
     "name": "stdout",
     "output_type": "stream",
     "text": [
      "Integral Numerik\n"
     ]
    },
    {
     "name": "stdin",
     "output_type": "stream",
     "text": [
      "Masukkan batas bawah integral:  -10\n",
      "Masukkan batas atas integral:  10\n",
      "Output berupa tabel? (y/n):  y\n"
     ]
    },
    {
     "name": "stdout",
     "output_type": "stream",
     "text": [
      "Integral fungsi di x0 = x**5+9*x**4-0*x**3+0*x**2-4*x+5 adalah: \n",
      "+-------------------------+-------------+\n",
      "| Metode Integral Numerik | Aproksimasi |\n",
      "+-------------------------+-------------+\n",
      "|        Trapezoid        |  1800100.0  |\n",
      "|         Simpson         |  600100.0   |\n",
      "+-------------------------+-------------+\n",
      "========================================================\n"
     ]
    },
    {
     "name": "stdin",
     "output_type": "stream",
     "text": [
      "Ingin menjalankan program lagi? (y/n):  y\n",
      "Masukkan NPM anda:  2106704004\n"
     ]
    },
    {
     "name": "stdout",
     "output_type": "stream",
     "text": [
      "Nilai variabel s:0\n",
      "Nilai variabel t:0\n",
      "Nilai variabel r:4\n",
      "Formula yang digunakan:x**5+9*x**4-0*x**3+0*x**2-4*x+5\n",
      "+------+---------------------------+-------------------------------------------------------------+\n",
      "| Kode |          Program          |                           Fungsi                            |\n",
      "+------+---------------------------+-------------------------------------------------------------+\n",
      "|  1   |      Turunan Numerik      | Untuk mengaproksimasi nilai turunan fungsi pada suatu titik |\n",
      "|  2   |     Integral Numerik      |  Untuk mengaproksimasi nilai integral pada interval [a,b]   |\n",
      "|  3   | Integral Numerik Komposit |            Untuk integral numerik dengan partisi            |\n",
      "+------+---------------------------+-------------------------------------------------------------+\n",
      "Selamat datang diprogram Turunan, Integral, dan Integral Komposit!\n"
     ]
    },
    {
     "name": "stdin",
     "output_type": "stream",
     "text": [
      "Ingin memilih program apa? 3\n"
     ]
    },
    {
     "name": "stdout",
     "output_type": "stream",
     "text": [
      "Integral Komposit\n"
     ]
    },
    {
     "name": "stdin",
     "output_type": "stream",
     "text": [
      "Masukkan batas bawah integral:  -10\n",
      "Masukkan batas atas integral:  10\n",
      "Masukkan jumlah partisi (n):  100\n",
      "Output berupa tabel? (y/n):  y\n"
     ]
    },
    {
     "name": "stdout",
     "output_type": "stream",
     "text": [
      "Turunan fungsi di x0 = x**5+9*x**4-0*x**3+0*x**2-4*x+5 adalah: \n",
      "Hasil integral numerik komposit dari fungsi f(x) = x**5+9*x**4-0*x**3+0*x**2-4*x+5 pada interval [-10,10] dengan 100 partisi adalah: \n",
      "+-------------------------+--------------------+\n",
      "| Metode Integral Numerik |    Aproksimasi     |\n",
      "+-------------------------+--------------------+\n",
      "|        Trapezoid        | 360339.99040000024 |\n",
      "|         Simpson         | 360100.03840000014 |\n",
      "+-------------------------+--------------------+\n",
      "========================================================\n"
     ]
    },
    {
     "name": "stdin",
     "output_type": "stream",
     "text": [
      "Ingin menjalankan program lagi? (y/n):  n\n"
     ]
    },
    {
     "name": "stdout",
     "output_type": "stream",
     "text": [
      "Terima kasih, program telah selesai.\n"
     ]
    }
   ],
   "source": [
    "# pendefinisian untuk turunan numerik\n",
    "def f(x): \n",
    "    return eval(formula)\n",
    "    \n",
    "def TPEP(x,h): # pendefinisian Three Point End Point\n",
    "    return (1/(2*h))*(-3*f(x)+4*f(x+h)-f(x+2*h)) # output hasil TPEP\n",
    "def TPMP(x,h): # pendefinisian Three Point Mid Point\n",
    "    return (1/(2*h))*(f(x+h)-f(x-h)) # output hasil TPMP\n",
    "def FPEP(x,h): # pendefinisian Five Point End Point\n",
    "    return (1/(12*h))*(-25*f(x)+48*f(x+h)-36*f(x+2*h)+16*f(x+3*h)-3*f(x+4*h)) # output hasil FPEP\n",
    "def FPMP(x,h): # pendefinisian Five Point Mid Point\n",
    "    return (1/(12*h))*(f(x-2*h)-8*f(x-h)+8*f(x+h)-f(x+2*h))# output hasil FPMP\n",
    "\n",
    "# pendefinisian untuk integral numerik\n",
    "def f(x): \n",
    "    return eval(formula)\n",
    "\n",
    "def Trapezoid(a,b): # pendefinisian metode Trapezoid\n",
    "    h = b-a \n",
    "    return (h/2)*(f(a)+f(b)) # output hasil perhitungan dengan metode Trapezoid\n",
    "def Simpson(a,b): # pendefinisian metode Simpson\n",
    "    h = (b-a)/2\n",
    "    return (h/3)*(f(a)+4*f(a+h)+f(b)) # output hasil perhitungan dengan metode Simpson\n",
    "\n",
    "# pendefinisian untuk integral komposit \n",
    "def f(x):\n",
    "    return eval(formula)\n",
    "\n",
    "def CompTrapezoid(a,b,n): # pendefinisian metode Trapezoid Komposit\n",
    "    h = (b-a)/n\n",
    "    sumtrap = 0\n",
    "    for j in range(1,n):\n",
    "        sumtrap = sumtrap + f(a+j*h)\n",
    "    return (h/2)*(f(a)+2*sumtrap+f(b)) # output hasil perhitungan dengan metode Trapezoid Komposit\n",
    "def CompSimpson(a,b,n): # pendefinisian metode Simpson Komposit\n",
    "    if n%2==1:\n",
    "        return \"jumlah partisi harus genap\"\n",
    "    elif n%2==0:\n",
    "        h = (b-a)/n\n",
    "        sum1 = 0\n",
    "        sum2 = 0\n",
    "        for j in range (1, int(n/2)):\n",
    "            sum1+= f(a+2*j*h)\n",
    "            sum2+= f(a+(2*j-1)*h)\n",
    "        sum2 += f(b-h)\n",
    "        return (h/3)*(f(a)+2*sum1+4*sum2+f(b)) # output hasil perhitungan dengan metode Simpson Komposit\n",
    "\n",
    "bisa = True \n",
    "while bisa == True: # memberikan perintah selama task bernilai True\n",
    "    npm = input('Masukkan NPM anda: ') # untuk input NPM\n",
    "    s = str(npm[7])\n",
    "    t = str(npm[8])\n",
    "    r = str(npm[9])\n",
    "    formula = 'x**5+9*x**4-'+ s + '*x**3+' + t + '*x**2-' + r + '*x+5'\n",
    "    print('Nilai variabel s:'+ str(s))\n",
    "    print('Nilai variabel t:'+ str(t))\n",
    "    print('Nilai variabel r:'+ str(r))\n",
    "    print('Formula yang digunakan:'+ formula)\n",
    "    table = [[1, 'Turunan Numerik', 'Untuk mengaproksimasi nilai turunan fungsi pada suatu titik'],\n",
    "             [2, 'Integral Numerik', 'Untuk mengaproksimasi nilai integral pada interval [a,b]'],\n",
    "             [3, 'Integral Numerik Komposit', ' Untuk integral numerik dengan partisi']]\n",
    "    print(tabulate(table, headers = ['Kode', 'Program', 'Fungsi'], tablefmt = 'pretty')) \n",
    "    print('Selamat datang diprogram Turunan, Integral, dan Integral Komposit!')\n",
    "    pilihan = int(input('Ingin memilih program apa?')) # untuk input pilihan metode yang ingin user pakai\n",
    "    \n",
    "    if pilihan == 1: # jika user memilih turunan numerik\n",
    "        print('Turunan Numerik')\n",
    "        x0 = eval(input('Masukkan titik dimana nilai turunan fungsinya akan diaproksimasi: ')) # untuk input nilai yang akan diaproksimasi dalam x0\n",
    "        h = eval(input('Masukkan besar stepsize: ')) # untuk input banyaknya stepsize dalam h\n",
    "        \n",
    "        mau_tabel = input(\"Output berupa tabel? (y/n): \") # untuk input pilihan output berupa tabel atau tidak\n",
    "        if mau_tabel == \"y\": # jika user ingin menampilkan tabel\n",
    "            print(\"Turunan fungsi di x0 = {0} adalah: \".format(x0))\n",
    "            a = TPEP(x0,h)\n",
    "            b = TPMP (x0,h)\n",
    "            c = FPEP(x0,h)\n",
    "            d = FPMP(x0,h)\n",
    "            hasiltabel= [[\"Metode Turunan Numerik\",\"Aproksimasi\"],[\"TPEP\",a],[\"TPMP\",b],[\"FPEP\",c],[\"FPMP\",d]]\n",
    "            print(tabulate(hasiltabel, headers = \"firstrow\", tablefmt = \"pretty\"))\n",
    "        elif mau_tabel == \"n\": # jika user tidak ingin menampilkan tabel\n",
    "            print('Turunan dari f di x0 = {0} adalah : '.format(x0))\n",
    "            print(\"f'({0}) = {1:.7f} (Three Point Endpoint)\".format(x0,TPEP(x0,h)))\n",
    "            print(\"f'({0}) = {1:.7f} (Three Point Midpoint)\".format(x0,TPMP(x0,h)))\n",
    "            print(\"f'({0}) = {1:.7f} (Five Point Endpoint)\".format(x0,FPEP(x0,h)))\n",
    "            print(\"f'({0}) = {1:.7f} (Five Point Midpoint)\".format(x0,FPMP(x0,h)))\n",
    "        \n",
    "        print('========================================================')\n",
    "        \n",
    "    elif pilihan == 2: # jika user memilih metode integral\n",
    "        print('Integral Numerik')\n",
    "        low_bound = eval(input('Masukkan batas bawah integral: ')) # untuk input batas bawah dalam lower bound\n",
    "        up_bound = eval(input('Masukkan batas atas integral: ')) # untuk input batas atas dalam upper bound\n",
    "\n",
    "        mau_tabel = input(\"Output berupa tabel? (y/n): \") # untuk input pilihan output berupa tabel atau tidak\n",
    "        if mau_tabel == \"y\": # jika user ingin menampilkan tabel\n",
    "            print(\"Integral fungsi di x0 = {0} adalah: \".format(formula))\n",
    "            a = Trapezoid(low_bound,up_bound)\n",
    "            b = Simpson(low_bound,up_bound)\n",
    "            hasiltabel = [[\"Metode Integral Numerik\",\"Aproksimasi\"],[\"Trapezoid\",a],[\"Simpson\",b]]\n",
    "            print(tabulate(hasiltabel, headers = \"firstrow\", tablefmt = \"pretty\")) \n",
    "        elif mau_tabel == \"n\": # jika user tidak ingin menampilkan tabel\n",
    "            print(\"Hasil integral dari fungsi f(x) = {0} pada interval [{1},{2}] adalah : \".format(formula, low_bound, up_bound))\n",
    "            print(\"Trapezoid = {:.7f}\".format(Trapezoid(low_bound,up_bound)))\n",
    "            print(\"Simpson = {:.7f}\".format(Simpson(low_bound,up_bound)))\n",
    "        \n",
    "        print('========================================================')\n",
    "\n",
    "    elif pilihan == 3: # jika user memilih metode integral komposit\n",
    "        print('Integral Komposit')\n",
    "        low_bound = eval(input('Masukkan batas bawah integral: ')) # untuk input batas bawah\n",
    "        up_bound = eval(input('Masukkan batas atas integral: ')) # untuk input batas atas\n",
    "        partisi = eval(input('Masukkan jumlah partisi (n): ')) # untuk input jumlah partisi\n",
    "        \n",
    "        mau_tabel = input(\"Output berupa tabel? (y/n): \") # untuk input pilihan output berupa tabel atau tidak\n",
    "        if mau_tabel == \"y\": # jika user ingin menampilkan tabel\n",
    "            print(\"Turunan fungsi di x0 = {0} adalah: \".format(formula))\n",
    "            a = CompTrapezoid(low_bound,up_bound,partisi)\n",
    "            b = CompSimpson(low_bound,up_bound,partisi)\n",
    "            hasiltabel = [[\"Metode Integral Numerik\",\"Aproksimasi\"],[\"Trapezoid\",a],[\"Simpson\",b]]\n",
    "            print(\"Hasil integral numerik komposit dari fungsi f(x) = {0} pada interval [{1},{2}] dengan {3} partisi adalah: \".format(formula, low_bound, up_bound, partisi))\n",
    "            print(tabulate(hasiltabel, headers = \"firstrow\", tablefmt = \"pretty\"))   \n",
    "        elif mau_tabel == \"n\" : # jika user tidak ingin menampilkan tabel\n",
    "            print(\"Hasil integral dari fugsi f(x) = {0} pada interval [{1},{2}] adalah: \".format(formula, low_bound, up_bound))\n",
    "            print(\"Composite Trapezoid dengan {0} partisi = {1:.5f}\".format(partisi, CompTrapezoid(low_bound, up_bound, partisi)))\n",
    "            print(\"Composite Simpson dengan {0} partisi = {1:.5f}\".format(partisi, CompSimpson(low_bound, up_bound, partisi)))\n",
    "        \n",
    "        print('========================================================')\n",
    "        \n",
    "    reset = str(input(\"Ingin menjalankan program lagi? (y/n): \")) # untuk input pilihan user ingin menjalankan program lagi atau tidak\n",
    "    if reset == \"n\": # jika user memilih tidak\n",
    "        print(\"Terima kasih, program telah selesai.\") \n",
    "        bisa = False "
   ]
  },
  {
   "cell_type": "code",
   "execution_count": null,
   "id": "21991dd8-2d16-4606-98fa-75d49beee2fd",
   "metadata": {},
   "outputs": [],
   "source": []
  }
 ],
 "metadata": {
  "kernelspec": {
   "display_name": "Python 3",
   "language": "python",
   "name": "python3"
  },
  "language_info": {
   "codemirror_mode": {
    "name": "ipython",
    "version": 3
   },
   "file_extension": ".py",
   "mimetype": "text/x-python",
   "name": "python",
   "nbconvert_exporter": "python",
   "pygments_lexer": "ipython3",
   "version": "3.8.8"
  }
 },
 "nbformat": 4,
 "nbformat_minor": 5
}
