{
 "cells": [
  {
   "cell_type": "markdown",
   "metadata": {},
   "source": [
    "# Zahrah Mahfuzah - 2106704004"
   ]
  },
  {
   "cell_type": "markdown",
   "metadata": {
    "id": "s0F5_hUlJQoG"
   },
   "source": [
    "# Nomor 1"
   ]
  },
  {
   "cell_type": "code",
   "execution_count": 7,
   "metadata": {
    "colab": {
     "base_uri": "https://localhost:8080/",
     "height": 992
    },
    "id": "GBHxzK137Ndx",
    "outputId": "0d429516-f5de-4fe0-c0e3-09fd9261f1f3"
   },
   "outputs": [
    {
     "name": "stdout",
     "output_type": "stream",
     "text": [
      "Welcome to this program!\n"
     ]
    },
    {
     "name": "stdin",
     "output_type": "stream",
     "text": [
      "Masukkan list titik-titik berurutan:  [1,2,3,5,6,7]\n",
      "Masukkan list nilai fungsi di titik-titik tersebut:  [9,96,423,2925,5904,10731]\n",
      "Masukkan nilai x yang akan diaproksimasikan nilai fungsinya:  4\n",
      "Masukkan metode yang ingin digunakan ((1)Lagrange , (2)NDD):  1\n"
     ]
    },
    {
     "name": "stdout",
     "output_type": "stream",
     "text": [
      "Polinomial Lagrange =  x**2*(4*x**2 + 3*x + 2)\n",
      "Aproksimasi nilai fungsi di x = 4 menggunakan Lagrange adalah y= 1248.00000\n"
     ]
    },
    {
     "name": "stdin",
     "output_type": "stream",
     "text": [
      "Tunjukkan ((1)tabel, (2)plot) :  1\n"
     ]
    },
    {
     "name": "stdout",
     "output_type": "stream",
     "text": [
      "+-----+---------------+\n",
      "|  x  |       y       |\n",
      "|-----+---------------|\n",
      "|  1  |   9.0000000   |\n",
      "|  2  |  96.0000000   |\n",
      "|  3  |  423.0000000  |\n",
      "|  4  | 1248.0000000  |\n",
      "|  5  | 2925.0000000  |\n",
      "|  6  | 5904.0000000  |\n",
      "|  7  | 10731.0000000 |\n",
      "+-----+---------------+\n"
     ]
    },
    {
     "name": "stdin",
     "output_type": "stream",
     "text": [
      "Ingin mencoba lagi? (Y/N)  Y\n",
      "Masukkan list titik-titik berurutan:  [1,2,3,5,6,7]\n",
      "Masukkan list nilai fungsi di titik-titik tersebut:  [9,96,423,2925,5904,10731]\n",
      "Masukkan nilai x yang akan diaproksimasikan nilai fungsinya:  4\n",
      "Masukkan metode yang ingin digunakan ((1)Lagrange , (2)NDD):  2\n",
      "(1)Forward, (2)Backward:  1\n",
      "Ingin mencetak tabel DD? (Y/N):  Y\n"
     ]
    },
    {
     "name": "stdout",
     "output_type": "stream",
     "text": [
      "|   x |     y |   DD1 |   DD2 |   DD3 |   DD4 |   DD5 |\n",
      "|-----+-------+-------+-------+-------+-------+-------|\n",
      "|   1 |     9 |    87 |   120 |    47 |     4 |     0 |\n",
      "|   2 |    96 |   327 |   308 |    67 |     4 |       |\n",
      "|   3 |   423 |  1251 |   576 |    87 |       |       |\n",
      "|   5 |  2925 |  2979 |   924 |       |       |       |\n",
      "|   6 |  5904 |  4827 |       |       |       |       |\n",
      "|   7 | 10731 |       |       |       |       |       |\n",
      "NDD Polinomial =  x**2*(4.0*x**2 + 3.0*x + 2.0)\n",
      "Aproksimasi nilai fungsi di x = 4 dengan menggunakan metode interpolasi forward NDD adalah y = 1248.0000000\n"
     ]
    },
    {
     "name": "stdin",
     "output_type": "stream",
     "text": [
      "Tunjukkan ((1)tabel, (2)plot) :  2\n"
     ]
    },
    {
     "data": {
      "image/png": "[encoded data removed]",
      "text/plain": [
       "<Figure size 432x288 with 1 Axes>"
      ]
     },
     "metadata": {
      "needs_background": "light"
     },
     "output_type": "display_data"
    },
    {
     "name": "stdin",
     "output_type": "stream",
     "text": [
      "Ingin mencoba lagi? (Y/N)  N\n"
     ]
    },
    {
     "name": "stdout",
     "output_type": "stream",
     "text": [
      "Thankyou for running this program!\n"
     ]
    }
   ],
   "source": [
    "print('Welcome to this program!')\n",
    "\n",
    "# import module \n",
    "import numpy as np \n",
    "import matplotlib.pyplot as plt \n",
    "from tabulate import tabulate \n",
    "from sympy import *\n",
    "\n",
    "# definisi\n",
    "def Lagrange(x_points,y_points,X): # pendefinisian fungsi lagrange\n",
    "    pol = 0 # inisiasi nilai polinom\n",
    "    n = len(x_points)\n",
    "    for k in range(n):\n",
    "        L = 1 # inisiasi nilai L(n.k)\n",
    "        for i in range(n):\n",
    "            if i!= k: \n",
    "                L *= ((X-x_points[i])/(x_points[k]-x_points[i])) # mencari nilai L(n,k), tanda bintang untuk selalu mengalikan nilai yang baru\n",
    "        pol += y_points[k]*L # untuk mencari nilai aproksimasi dengan polinom \n",
    "    return pol\n",
    "\n",
    "def DDTableGenerator(x_points,y_points): # fungsi untuk membuat tabel DD\n",
    "    DDTable = [y_points] # kolom-kolom pada tabel\n",
    "    for column in range(1,len(y_points)):\n",
    "        DDcolumn = [] # isi setiap kolom \n",
    "        for row in range(len(DDTable[-1])-1): # proses mengisi kolom\n",
    "            DD = (DDTable[-1][row+1]-DDTable[-1][row])\\\n",
    "            /(x_points[column+row]-x_points[row])\n",
    "            DDcolumn.append(DD)\n",
    "        DDTable.append(DDcolumn) # tambahkan kolom yang diisi ke tabel\n",
    "    return DDTable\n",
    "\n",
    "def ForwardDD(x_points,y_points,X): # fungsi dengan metode Forward NDD\n",
    "    DDTable = DDTableGenerator(x_points,y_points)\n",
    "    pol = DDTable[0][0] # inisiasi nilai dari polinom\n",
    "    mult_term = 1 # variabel penyimpanan (x-x0)(x-x)...\n",
    "    for k in range(1,len(DDTable)):\n",
    "        mult_term *= (X-x_points[k-1]) # menghitung (x-x0)(x-x1)...(x-x(n-1))\n",
    "        pol +=DDTable[k][0]*mult_term # menghitung nilai interpolasi\n",
    "    return pol\n",
    "\n",
    "def BackwardDD(x_points,y_points,X): # fungsi dengan metode Backward NDD\n",
    "    DDTable = DDTableGenerator(x_points,y_points)\n",
    "    pol = DDTable[0][-1] # inisiasi nilai dari polinom\n",
    "    mult_term = 1 # variabel untuk menyimpan nilai dari (x-xn)(x-x)\n",
    "    for k in range(1,len(DDTable)):\n",
    "        mult_term *= (X-x_points[-k]) # menghitung (x-xn)(x-x(n-1))...(x-x1)\n",
    "        pol += DDTable[k][-1]*mult_term # menghitung nilai interpolasi\n",
    "    return pol\n",
    "\n",
    "bisa = True\n",
    "while bisa == True: # iterasi terus berlangsung\n",
    "    titik_x = eval(input(\"Masukkan list titik-titik berurutan: \")) # input list titik-titik (x)\n",
    "    titik_y = eval(input(\"Masukkan list nilai fungsi di titik-titik tersebut: \")) # input nilainya (y)\n",
    "    eval_x = eval(input(\"Masukkan nilai x yang akan diaproksimasikan nilai fungsinya: \")) # input titik yang ingin dihitung nilai interpolasinya\n",
    "    pilihan = int(input(\"Masukkan metode yang ingin digunakan ((1)Lagrange , (2)NDD): \")) # input pilihan metode interpolasi\n",
    "\n",
    "    if pilihan == 1: # jika memilih metode Lagrange\n",
    "        x = Symbol('x') # supaya di program tetap dalam variabel 'x'\n",
    "        print(\"Polinomial Lagrange = \", simplify(Lagrange(titik_x,titik_y,x)))\n",
    "        print(\"Aproksimasi nilai fungsi di x = {0} menggunakan Lagrange adalah y= {1:.5f}\".format(eval_x,Lagrange(titik_x,titik_y,eval_x)))\n",
    "    \n",
    "    elif pilihan == 2: # jika memilih metode NDD\n",
    "        x = Symbol('x') # supaya di program tetap dalam variabel 'x'\n",
    "        pilih = int(input(\"(1)Forward, (2)Backward: \")) # input pilihan NDD\n",
    "        viewtable = input(\"Ingin mencetak tabel DD? (Y/N): \") # input ingin menampilkan tabel atau tidak\n",
    "        if viewtable == 'Y': # jika ingin menampilkan tabel\n",
    "            h = ['x','y'] # headers\n",
    "            for i in range(1,len(titik_x)):\n",
    "                h.append(\"DD\"+str(i)) # penamaan headers di samping x dan y : DD1, DD2, dst. \n",
    "            t = []\n",
    "            table = DDTableGenerator(titik_x,titik_y) # tabel DD\n",
    "            for i in range(len(titik_x)):\n",
    "                DDrow = [] # isi baris\n",
    "                DDrow.append(titik_x[i])\n",
    "                for j in range(len(titik_x)-i): # proses mengisi baris\n",
    "                    DDrow.append(table[j][i])\n",
    "                t.append(DDrow) # tambahkan baris pada tabel DD\n",
    "            print(tabulate(t, headers = h, tablefmt = \"orgtbl\")) # referensi : modul 1\n",
    "        if pilih == 1: # jika memilih forward NDD\n",
    "            print(\"NDD Polinomial = \", simplify(ForwardDD(titik_x,titik_y,x)))\n",
    "            print(\"Aproksimasi nilai fungsi di x = {0} dengan menggunakan metode interpolasi forward NDD adalah y = {1:.7f}\".format(eval_x,ForwardDD(titik_x,titik_y,eval_x)))\n",
    "        elif pilih == 2: # jika memilih backward NDD\n",
    "            print(\"NDD polinomial = \", simplify(BackwardDD(titik_x,titik_y,x)))\n",
    "            print(\"Aproksimasi nilai fungsi di x = {0} menggunakan Forward NDD adalah y = {1:.5f}\".format(eval_x,BackwardDD(titik_x,titik_y,eval_x)))\n",
    "  \n",
    "    pilihLagi = int(input(\"Tunjukkan ((1)tabel, (2)plot) : \")) # input memilih tabel / plot hasil interpolasi\n",
    "    if pilihLagi == 1: # jika memilih tabel\n",
    "        t2 = []\n",
    "        if pilihan == 1:\n",
    "            pol = Lagrange(titik_x,titik_y,eval_x) # tabel dari hasil Lagrange\n",
    "        if pilihan == 2:\n",
    "            if pilih == 1:\n",
    "                pol = ForwardDD(titik_x,titik_y,eval_x) # tabel dari hasil Forward NDD\n",
    "            elif pilih == 2:\n",
    "                pol = BackwardDD(titik_x,titik_y,eval_x) # tabel dari hasil Backward NDD\n",
    "        titik_x.append(eval_x) # aproksimasi nilai x\n",
    "        titik_y.append(pol) # hasil\n",
    "        urut = sorted(titik_x) # sesuai urutan\n",
    "        for i in range(len(titik_x)):\n",
    "            for j in range(len(titik_y)):\n",
    "                if urut[i] == titik_x[j]:\n",
    "                    t2.append([urut[i], titik_y[j]])\n",
    "        print(tabulate(t2, headers = [\"x\",\"y\"], tablefmt = \"psql\", numalign = \"center\", stralign = \"center\", floatfmt = \".7f\")) # referensi pqsl : internet\n",
    "    elif pilihLagi == 2: # jika memilih plot\n",
    "        if pilihan == 1:\n",
    "            pers = str(Lagrange(titik_x,titik_y,x)) # plot persamaan Lagrange\n",
    "        if pilihan == 2:\n",
    "            if pilih == 1:\n",
    "                pers = str(ForwardDD(titik_x,titik_y,x)) # plot persamaan Forward NDD\n",
    "            if pilih == 2:\n",
    "                pers = str(BackwardDD(titik_x,titik_y,x)) # plot persamaan Backward NDD\n",
    "    \n",
    "        def g(x): # persamaan g(x)\n",
    "            return eval(pers)\n",
    "\n",
    "        x1 = np.linspace(titik_x[0],titik_x[len(titik_x)-1],10) # titik x\n",
    "        y1 = g(x1) # nilai persamaan x\n",
    "        x3 = eval_x # titik yang diinterpolasikan\n",
    "        y3 = g(x3) # nilai titik yang diinterpolasikan\n",
    "        plt.plot(x1,y1,'c') # coral\n",
    "        plt.plot(x3,y3,'g-x') # bentuk x\n",
    "        plt.ylabel('y')\n",
    "        plt.xlabel('x')\n",
    "        plt.title(\"Grafik Input dan Polinomial Interpolasi\") # judul\n",
    "        plt.legend([\"polinom interpolasi\",\"titik yang diinterpolasikan\"]) # legend atau keterangan mengenai plot\n",
    "        plt.show() # print plot\n",
    "\n",
    "    ngulang = str(input(\"Ingin mencoba lagi? (Y/N) \")) # untuk input ingin mengulang program atau tidak\n",
    "    if ngulang == \"N\":\n",
    "        print(\"Thankyou for running this program!\") \n",
    "        bisa = False # selesai ketika kondisi ini"
   ]
  },
  {
   "cell_type": "markdown",
   "metadata": {
    "id": "mgFpxzn681dn"
   },
   "source": [
    "# Nomor 2"
   ]
  },
  {
   "cell_type": "code",
   "execution_count": 10,
   "metadata": {
    "colab": {
     "base_uri": "https://localhost:8080/",
     "height": 978
    },
    "id": "0UBKVjjF82nL",
    "outputId": "0e78a99c-37ea-4c42-95e0-b3d36ddb7fe5"
   },
   "outputs": [
    {
     "name": "stdout",
     "output_type": "stream",
     "text": [
      "Welcome to this program!\n"
     ]
    },
    {
     "name": "stdin",
     "output_type": "stream",
     "text": [
      "Masukkan list titik-titik berurutan:  [35,45,55,65,85,95]\n",
      "Masukkan list nilai fungsi di titik-titik tersebut:  [32,56,51,42,30,25]\n",
      "Masukkan nilai x yang akan diaproksimasikan nilai fungsinya:  60\n",
      "Masukkan metode yang ingin digunakan ((1)Lagrange , (2)NDD):  1\n"
     ]
    },
    {
     "name": "stdout",
     "output_type": "stream",
     "text": [
      "Polinomial Lagrange =  x**5/1200000 - 367*x**4/1200000 + 1063*x**3/24000 - 15149*x**2/4800 + 70203*x/640 - 911941/640\n",
      "Aproksimasi nilai fungsi di x = 60 menggunakan Lagrange adalah y= 46.27344\n"
     ]
    },
    {
     "name": "stdin",
     "output_type": "stream",
     "text": [
      "Tunjukkan ((1)tabel, (2)plot) :  1\n"
     ]
    },
    {
     "name": "stdout",
     "output_type": "stream",
     "text": [
      "+-----+------------+\n",
      "|  x  |     y      |\n",
      "|-----+------------|\n",
      "| 35  | 32.0000000 |\n",
      "| 45  | 56.0000000 |\n",
      "| 55  | 51.0000000 |\n",
      "| 60  | 46.2734375 |\n",
      "| 65  | 42.0000000 |\n",
      "| 85  | 30.0000000 |\n",
      "| 95  | 25.0000000 |\n",
      "+-----+------------+\n"
     ]
    },
    {
     "name": "stdin",
     "output_type": "stream",
     "text": [
      "Ingin mencoba lagi? (Y/N)  Y\n",
      "Masukkan list titik-titik berurutan:  [35,45,55,65,85,95]\n",
      "Masukkan list nilai fungsi di titik-titik tersebut:  [32,56,51,42,30,25]\n",
      "Masukkan nilai x yang akan diaproksimasikan nilai fungsinya:  60\n",
      "Masukkan metode yang ingin digunakan ((1)Lagrange , (2)NDD):  2\n",
      "(1)Forward, (2)Backward:  1\n",
      "Ingin mencetak tabel DD? (Y/N):  Y\n"
     ]
    },
    {
     "name": "stdout",
     "output_type": "stream",
     "text": [
      "|   x |   y |   DD1 |         DD2 |          DD3 |          DD4 |         DD5 |\n",
      "|-----+-----+-------+-------------+--------------+--------------+-------------|\n",
      "|  35 |  32 |   2.4 | -0.145      |  0.00416667  | -6.83333e-05 | 8.33333e-07 |\n",
      "|  45 |  56 |  -0.5 | -0.02       |  0.00075     | -1.83333e-05 |             |\n",
      "|  55 |  51 |  -0.9 |  0.01       | -0.000166667 |              |             |\n",
      "|  65 |  42 |  -0.6 |  0.00333333 |              |              |             |\n",
      "|  85 |  30 |  -0.5 |             |              |              |             |\n",
      "|  95 |  25 |       |             |              |              |             |\n",
      "NDD Polinomial =  8.33333333333333e-7*x**5 - 0.000305833333333333*x**4 + 0.0442916666666667*x**3 - 3.15604166666667*x**2 + 109.6921875*x - 1424.9078125\n",
      "Aproksimasi nilai fungsi di x = 60 dengan menggunakan metode interpolasi forward NDD adalah y = 46.2734375\n"
     ]
    },
    {
     "name": "stdin",
     "output_type": "stream",
     "text": [
      "Tunjukkan ((1)tabel, (2)plot) :  2\n"
     ]
    },
    {
     "data": {
      "image/png": "[encoded data removed]",
      "text/plain": [
       "<Figure size 432x288 with 1 Axes>"
      ]
     },
     "metadata": {
      "needs_background": "light"
     },
     "output_type": "display_data"
    },
    {
     "name": "stdin",
     "output_type": "stream",
     "text": [
      "Ingin mencoba lagi? (Y/N)  Y\n",
      "Masukkan list titik-titik berurutan:  [35,45,55,65,85,95]\n",
      "Masukkan list nilai fungsi di titik-titik tersebut:  [32,56,51,42,30,25]\n",
      "Masukkan nilai x yang akan diaproksimasikan nilai fungsinya:  60\n",
      "Masukkan metode yang ingin digunakan ((1)Lagrange , (2)NDD):  2\n",
      "(1)Forward, (2)Backward:  2\n",
      "Ingin mencetak tabel DD? (Y/N):  Y\n"
     ]
    },
    {
     "name": "stdout",
     "output_type": "stream",
     "text": [
      "|   x |   y |   DD1 |         DD2 |          DD3 |          DD4 |         DD5 |\n",
      "|-----+-----+-------+-------------+--------------+--------------+-------------|\n",
      "|  35 |  32 |   2.4 | -0.145      |  0.00416667  | -6.83333e-05 | 8.33333e-07 |\n",
      "|  45 |  56 |  -0.5 | -0.02       |  0.00075     | -1.83333e-05 |             |\n",
      "|  55 |  51 |  -0.9 |  0.01       | -0.000166667 |              |             |\n",
      "|  65 |  42 |  -0.6 |  0.00333333 |              |              |             |\n",
      "|  85 |  30 |  -0.5 |             |              |              |             |\n",
      "|  95 |  25 |       |             |              |              |             |\n",
      "NDD polinomial =  8.33333333333333e-7*x**5 - 0.000305833333333333*x**4 + 0.0442916666666667*x**3 - 3.15604166666667*x**2 + 109.6921875*x - 1424.9078125\n",
      "Aproksimasi nilai fungsi di x = 60 menggunakan Forward NDD adalah y = 46.27344\n"
     ]
    },
    {
     "name": "stdin",
     "output_type": "stream",
     "text": [
      "Tunjukkan ((1)tabel, (2)plot) :  2\n"
     ]
    },
    {
     "data": {
      "image/png": "[encoded data removed]",
      "text/plain": [
       "<Figure size 432x288 with 1 Axes>"
      ]
     },
     "metadata": {
      "needs_background": "light"
     },
     "output_type": "display_data"
    },
    {
     "name": "stdin",
     "output_type": "stream",
     "text": [
      "Ingin mencoba lagi? (Y/N)  N\n"
     ]
    },
    {
     "name": "stdout",
     "output_type": "stream",
     "text": [
      "Thankyou for running this program!\n"
     ]
    }
   ],
   "source": [
    "print('Welcome to this program!')\n",
    "\n",
    "# import module \n",
    "import numpy as np \n",
    "import matplotlib.pyplot as plt \n",
    "from tabulate import tabulate \n",
    "from sympy import *\n",
    "\n",
    "# definisi\n",
    "def Lagrange(x_points,y_points,X): # pendefinisian fungsi lagrange\n",
    "    pol = 0 # inisiasi nilai polinom\n",
    "    n = len(x_points)\n",
    "    for k in range(n):\n",
    "        L = 1 # inisiasi nilai L(n.k)\n",
    "        for i in range(n):\n",
    "            if i!= k: \n",
    "                L *= ((X-x_points[i])/(x_points[k]-x_points[i])) # mencari nilai L(n,k), tanda bintang untuk selalu mengalikan nilai yang baru\n",
    "        pol += y_points[k]*L # untuk mencari nilai aproksimasi dengan polinom \n",
    "    return pol\n",
    "\n",
    "def DDTableGenerator(x_points,y_points): # fungsi untuk membuat tabel DD\n",
    "    DDTable = [y_points] # kolom-kolom pada tabel\n",
    "    for column in range(1,len(y_points)):\n",
    "        DDcolumn = [] # isi setiap kolom \n",
    "        for row in range(len(DDTable[-1])-1): # proses mengisi kolom\n",
    "            DD = (DDTable[-1][row+1]-DDTable[-1][row])\\\n",
    "            /(x_points[column+row]-x_points[row])\n",
    "            DDcolumn.append(DD)\n",
    "        DDTable.append(DDcolumn) # tambahkan kolom yang diisi ke tabel\n",
    "    return DDTable\n",
    "\n",
    "def ForwardDD(x_points,y_points,X): # fungsi dengan metode Forward NDD\n",
    "    DDTable = DDTableGenerator(x_points,y_points)\n",
    "    pol = DDTable[0][0] # inisiasi nilai dari polinom\n",
    "    mult_term = 1 # variabel penyimpanan (x-x0)(x-x)...\n",
    "    for k in range(1,len(DDTable)):\n",
    "        mult_term *= (X-x_points[k-1]) # menghitung (x-x0)(x-x1)...(x-x(n-1))\n",
    "        pol +=DDTable[k][0]*mult_term # menghitung nilai interpolasi\n",
    "    return pol\n",
    "\n",
    "def BackwardDD(x_points,y_points,X): # fungsi dengan metode Backward NDD\n",
    "    DDTable = DDTableGenerator(x_points,y_points)\n",
    "    pol = DDTable[0][-1] # inisiasi nilai dari polinom\n",
    "    mult_term = 1 # variabel untuk menyimpan nilai dari (x-xn)(x-x)\n",
    "    for k in range(1,len(DDTable)):\n",
    "        mult_term *= (X-x_points[-k]) # menghitung (x-xn)(x-x(n-1))...(x-x1)\n",
    "        pol += DDTable[k][-1]*mult_term # menghitung nilai interpolasi\n",
    "    return pol\n",
    "\n",
    "bisa = True\n",
    "while bisa == True: # iterasi terus berlangsung\n",
    "    titik_x = eval(input(\"Masukkan list titik-titik berurutan: \")) # input list titik-titik (x)\n",
    "    titik_y = eval(input(\"Masukkan list nilai fungsi di titik-titik tersebut: \")) # input nilainya (y)\n",
    "    eval_x = eval(input(\"Masukkan nilai x yang akan diaproksimasikan nilai fungsinya: \")) # input titik yang ingin dihitung nilai interpolasinya\n",
    "    pilihan = int(input(\"Masukkan metode yang ingin digunakan ((1)Lagrange , (2)NDD): \")) # input pilihan metode interpolasi\n",
    "\n",
    "    if pilihan == 1: # jika memilih metode Lagrange\n",
    "        x = Symbol('x') # supaya di program tetap dalam variabel 'x'\n",
    "        print(\"Polinomial Lagrange = \", simplify(Lagrange(titik_x,titik_y,x)))\n",
    "        print(\"Aproksimasi nilai fungsi di x = {0} menggunakan Lagrange adalah y= {1:.5f}\".format(eval_x,Lagrange(titik_x,titik_y,eval_x)))\n",
    "    \n",
    "    elif pilihan == 2: # jika memilih metode NDD\n",
    "        x = Symbol('x') # supaya di program tetap dalam variabel 'x'\n",
    "        pilih = int(input(\"(1)Forward, (2)Backward: \")) # input pilihan NDD\n",
    "        viewtable = input(\"Ingin mencetak tabel DD? (Y/N): \") # input ingin menampilkan tabel atau tidak\n",
    "        if viewtable == 'Y': # jika ingin menampilkan tabel\n",
    "            h = ['x','y'] # headers\n",
    "            for i in range(1,len(titik_x)):\n",
    "                h.append(\"DD\"+str(i)) # penamaan headers di samping x dan y : DD1, DD2, dst. \n",
    "            t = []\n",
    "            table = DDTableGenerator(titik_x,titik_y) # tabel DD\n",
    "            for i in range(len(titik_x)):\n",
    "                DDrow = [] # isi baris\n",
    "                DDrow.append(titik_x[i])\n",
    "                for j in range(len(titik_x)-i): # proses mengisi baris\n",
    "                    DDrow.append(table[j][i])\n",
    "                t.append(DDrow) # tambahkan baris pada tabel DD\n",
    "            print(tabulate(t, headers = h, tablefmt = \"orgtbl\")) # referensi : modul 1\n",
    "        if pilih == 1: # jika memilih forward NDD\n",
    "            print(\"NDD Polinomial = \", simplify(ForwardDD(titik_x,titik_y,x)))\n",
    "            print(\"Aproksimasi nilai fungsi di x = {0} dengan menggunakan metode interpolasi forward NDD adalah y = {1:.7f}\".format(eval_x,ForwardDD(titik_x,titik_y,eval_x)))\n",
    "        elif pilih == 2: # jika memilih backward NDD\n",
    "            print(\"NDD polinomial = \", simplify(BackwardDD(titik_x,titik_y,x)))\n",
    "            print(\"Aproksimasi nilai fungsi di x = {0} menggunakan Forward NDD adalah y = {1:.5f}\".format(eval_x,BackwardDD(titik_x,titik_y,eval_x)))\n",
    "  \n",
    "    pilihLagi = int(input(\"Tunjukkan ((1)tabel, (2)plot) : \")) # input memilih tabel / plot hasil interpolasi\n",
    "    if pilihLagi == 1: # jika memilih tabel\n",
    "        t2 = []\n",
    "        if pilihan == 1:\n",
    "            pol = Lagrange(titik_x,titik_y,eval_x) # tabel dari hasil Lagrange\n",
    "        if pilihan == 2:\n",
    "            if pilih == 1:\n",
    "                pol = ForwardDD(titik_x,titik_y,eval_x) # tabel dari hasil Forward NDD\n",
    "            elif pilih == 2:\n",
    "                pol = BackwardDD(titik_x,titik_y,eval_x) # tabel dari hasil Backward NDD\n",
    "        titik_x.append(eval_x) # aproksimasi nilai x\n",
    "        titik_y.append(pol) # hasil\n",
    "        urut = sorted(titik_x) # sesuai urutan\n",
    "        for i in range(len(titik_x)):\n",
    "            for j in range(len(titik_y)):\n",
    "                if urut[i] == titik_x[j]:\n",
    "                    t2.append([urut[i], titik_y[j]])\n",
    "        print(tabulate(t2, headers = [\"x\",\"y\"], tablefmt = \"psql\", numalign = \"center\", stralign = \"center\", floatfmt = \".7f\")) # referensi pqsl : internet\n",
    "    elif pilihLagi == 2: # jika memilih plot\n",
    "        if pilihan == 1:\n",
    "            pers = str(Lagrange(titik_x,titik_y,x)) # plot persamaan Lagrange\n",
    "        if pilihan == 2:\n",
    "            if pilih == 1:\n",
    "                pers = str(ForwardDD(titik_x,titik_y,x)) # plot persamaan Forward NDD\n",
    "            if pilih == 2:\n",
    "                pers = str(BackwardDD(titik_x,titik_y,x)) # plot persamaan Backward NDD\n",
    "    \n",
    "        def g(x): # persamaan g(x)\n",
    "            return eval(pers)\n",
    "\n",
    "        x1 = np.linspace(titik_x[0],titik_x[len(titik_x)-1],10) # titik x\n",
    "        y1 = g(x1) # nilai persamaan x\n",
    "        x3 = eval_x # titik yang diinterpolasikan\n",
    "        y3 = g(x3) # nilai titik yang diinterpolasikan\n",
    "        plt.plot(x1,y1,'c') # coral\n",
    "        plt.plot(x3,y3,'g-x') # bentuk x\n",
    "        plt.ylabel('y')\n",
    "        plt.xlabel('x')\n",
    "        plt.title(\"Grafik Input dan Polinomial Interpolasi\") # judul\n",
    "        plt.legend([\"polinom interpolasi\",\"titik yang diinterpolasikan\"]) # legend atau keterangan mengenai plot\n",
    "        plt.show() # print plot\n",
    "\n",
    "    ngulang = str(input(\"Ingin mencoba lagi? (Y/N) \")) # untuk input ingin mengulang program atau tidak\n",
    "    if ngulang == \"N\":\n",
    "        print(\"Thankyou for running this program!\") \n",
    "        bisa = False # selesai ketika kondisi ini"
   ]
  },
  {
   "cell_type": "markdown",
   "metadata": {
    "id": "QDemDDgfH6jY"
   },
   "source": [
    "**Kesimpulan:**\n",
    "    \n",
    "Hasil output dari ketiga metode yang tersedia, yaitu Lagrange, Forward NDD, dan Backward NDD bernilai sama dengan nilai -18.6827641. Maka dari itu, dapat disimpulkan ketiga metode ini memberikan hasil yang cukup akurat pada kasus ini karena bernilai sama."
   ]
  },
  {
   "cell_type": "code",
   "execution_count": null,
   "metadata": {},
   "outputs": [],
   "source": []
  }
 ],
 "metadata": {
  "colab": {
   "name": "Zahrah Mahfuzah_2106704004_Kelas A_Tugas2PrakMetnum.ipynb",
   "provenance": []
  },
  "kernelspec": {
   "display_name": "Python 3",
   "language": "python",
   "name": "python3"
  },
  "language_info": {
   "codemirror_mode": {
    "name": "ipython",
    "version": 3
   },
   "file_extension": ".py",
   "mimetype": "text/x-python",
   "name": "python",
   "nbconvert_exporter": "python",
   "pygments_lexer": "ipython3",
   "version": "3.8.8"
  }
 },
 "nbformat": 4,
 "nbformat_minor": 4
}
